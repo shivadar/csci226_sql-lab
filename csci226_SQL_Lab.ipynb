{
  "nbformat": 4,
  "nbformat_minor": 0,
  "metadata": {
    "colab": {
      "provenance": [],
      "authorship_tag": "ABX9TyMBgog95kZK2pL9o05/b08L",
      "include_colab_link": true
    },
    "kernelspec": {
      "name": "python3",
      "display_name": "Python 3"
    },
    "language_info": {
      "name": "python"
    }
  },
  "cells": [
    {
      "cell_type": "markdown",
      "metadata": {
        "id": "view-in-github",
        "colab_type": "text"
      },
      "source": [
        "<a href=\"https://colab.research.google.com/github/shivadar/csci226_sql-lab/blob/main/csci226_SQL_Lab.ipynb\" target=\"_parent\"><img src=\"https://colab.research.google.com/assets/colab-badge.svg\" alt=\"Open In Colab\"/></a>"
      ]
    },
    {
      "cell_type": "code",
      "execution_count": 1,
      "metadata": {
        "colab": {
          "base_uri": "https://localhost:8080/"
        },
        "id": "bacAeSagdOZg",
        "outputId": "d9f70a8f-03b8-4138-a9bd-032e162c290c"
      },
      "outputs": [
        {
          "output_type": "stream",
          "name": "stdout",
          "text": [
            "Collecting psycopg2-binary\n",
            "  Downloading psycopg2_binary-2.9.10-cp312-cp312-manylinux_2_17_x86_64.manylinux2014_x86_64.whl.metadata (4.9 kB)\n",
            "Requirement already satisfied: pandas in /usr/local/lib/python3.12/dist-packages (2.2.2)\n",
            "Requirement already satisfied: numpy>=1.26.0 in /usr/local/lib/python3.12/dist-packages (from pandas) (2.0.2)\n",
            "Requirement already satisfied: python-dateutil>=2.8.2 in /usr/local/lib/python3.12/dist-packages (from pandas) (2.9.0.post0)\n",
            "Requirement already satisfied: pytz>=2020.1 in /usr/local/lib/python3.12/dist-packages (from pandas) (2025.2)\n",
            "Requirement already satisfied: tzdata>=2022.7 in /usr/local/lib/python3.12/dist-packages (from pandas) (2025.2)\n",
            "Requirement already satisfied: six>=1.5 in /usr/local/lib/python3.12/dist-packages (from python-dateutil>=2.8.2->pandas) (1.17.0)\n",
            "Downloading psycopg2_binary-2.9.10-cp312-cp312-manylinux_2_17_x86_64.manylinux2014_x86_64.whl (3.0 MB)\n",
            "\u001b[2K   \u001b[90m━━━━━━━━━━━━━━━━━━━━━━━━━━━━━━━━━━━━━━━━\u001b[0m \u001b[32m3.0/3.0 MB\u001b[0m \u001b[31m29.1 MB/s\u001b[0m eta \u001b[36m0:00:00\u001b[0m\n",
            "\u001b[?25hInstalling collected packages: psycopg2-binary\n",
            "Successfully installed psycopg2-binary-2.9.10\n"
          ]
        }
      ],
      "source": [
        "!pip install psycopg2-binary pandas"
      ]
    },
    {
      "cell_type": "code",
      "source": [
        "import psycopg2, pandas as pd\n",
        "\n",
        "conn = psycopg2.connect(\n",
        "    dbname=\"neondb\",\n",
        "    user=\"neondb_owner\",\n",
        "    password=\"npg_rjqA2Ucg7IoY\",\n",
        "    host=\"ep-empty-sun-ad6wkfza-pooler.c-2.us-east-1.aws.neon.tech.\",\n",
        "    port=\"5432\"\n",
        ")\n",
        "\n",
        "cur = conn.cursor()\n",
        "print(\"Connected successfully!\")"
      ],
      "metadata": {
        "colab": {
          "base_uri": "https://localhost:8080/"
        },
        "id": "XKmkW_epdr4X",
        "outputId": "110cabc8-b916-4d4e-85d4-1a145fbf0d9f"
      },
      "execution_count": 14,
      "outputs": [
        {
          "output_type": "stream",
          "name": "stdout",
          "text": [
            "Connected successfully!\n"
          ]
        }
      ]
    },
    {
      "cell_type": "code",
      "source": [
        "cur.execute(\"\"\"\n",
        "CREATE TABLE Classes (\n",
        "    class VARCHAR(50) PRIMARY KEY,\n",
        "    type VARCHAR(20),\n",
        "    country VARCHAR(50),\n",
        "    numGuns INTEGER,\n",
        "    bore DECIMAL(4,1),\n",
        "    displacement INTEGER\n",
        ");\n",
        "\"\"\")\n",
        "\n",
        "conn.commit()\n",
        "print(\"Classes table created successfully!\")"
      ],
      "metadata": {
        "colab": {
          "base_uri": "https://localhost:8080/"
        },
        "id": "5J3g9kzZeU4r",
        "outputId": "4a4841f0-d827-4d2f-9c52-bffe6fa103a6"
      },
      "execution_count": 4,
      "outputs": [
        {
          "output_type": "stream",
          "name": "stdout",
          "text": [
            "Classes table created successfully!\n"
          ]
        }
      ]
    },
    {
      "cell_type": "code",
      "source": [
        "cur.execute(\"\"\"\n",
        "CREATE TABLE Ships (\n",
        "    name VARCHAR(50) PRIMARY KEY,\n",
        "    class VARCHAR(50),\n",
        "    launched INTEGER,\n",
        "    FOREIGN KEY (class) REFERENCES Classes(class)\n",
        ");\n",
        "\"\"\")\n",
        "\n",
        "conn.commit()\n",
        "print(\"Ships table created successfully!\")"
      ],
      "metadata": {
        "colab": {
          "base_uri": "https://localhost:8080/"
        },
        "id": "B-xTh6q3ej-x",
        "outputId": "7a73ece4-192f-447c-d6ee-1779083ca000"
      },
      "execution_count": 5,
      "outputs": [
        {
          "output_type": "stream",
          "name": "stdout",
          "text": [
            "Ships table created successfully!\n"
          ]
        }
      ]
    },
    {
      "cell_type": "code",
      "source": [
        "# Insert data into Classes table\n",
        "cur.execute(\"\"\"\n",
        "INSERT INTO Classes VALUES\n",
        "('Bismarck', 'bb', 'Germany', 8, 15.0, 42000),\n",
        "('Iowa', 'bb', 'USA', 9, 16.0, 46000),\n",
        "('Kongo', 'bc', 'Japan', 8, 14.0, 32000),\n",
        "('North Carolina', 'bb', 'USA', 9, 16.0, 37000),\n",
        "('Revenge', 'bb', 'Gt. Britain', 8, 15.0, 29000),\n",
        "('Renown', 'bc', 'Gt. Britain', 6, 15.0, 32000),\n",
        "('Tennessee', 'bb', 'USA', 12, 14.0, 32000),\n",
        "('Yamato', 'bb', 'Japan', 9, 18.1, 65000);\n",
        "\"\"\")\n",
        "\n",
        "# Insert data into Ships table\n",
        "cur.execute(\"\"\"\n",
        "INSERT INTO Ships VALUES\n",
        "('California', 'Tennessee', 1921),\n",
        "('Haruna', 'Kongo', 1916),\n",
        "('Hiei', 'Kongo', 1914),\n",
        "('Iowa', 'Iowa', 1943),\n",
        "('Kirishima', 'Kongo', 1915),\n",
        "('Kongo', 'Kongo', 1913),\n",
        "('Missouri', 'Iowa', 1944),\n",
        "('Musashi', 'Yamato', 1942),\n",
        "('New Jersey', 'Iowa', 1943),\n",
        "('North Carolina', 'North Carolina', 1941),\n",
        "('Ramillies', 'Revenge', 1917),\n",
        "('Renown', 'Renown', 1916),\n",
        "('Repulse', 'Renown', 1916),\n",
        "('Resolution', 'Revenge', 1916),\n",
        "('Revenge', 'Revenge', 1916),\n",
        "('Royal Oak', 'Revenge', 1916),\n",
        "('Royal Sovereign', 'Revenge', 1916),\n",
        "('Tennessee', 'Tennessee', 1920),\n",
        "('Washington', 'North Carolina', 1941),\n",
        "('Wisconsin', 'Iowa', 1944),\n",
        "('Yamato', 'Yamato', 1941);\n",
        "\"\"\")\n",
        "\n",
        "conn.commit()\n",
        "print(\"Data inserted successfully!\")\n"
      ],
      "metadata": {
        "colab": {
          "base_uri": "https://localhost:8080/"
        },
        "id": "kNAAtV6LeqFU",
        "outputId": "68cb4d3f-eff8-4abf-8aa6-4946d09a50b5"
      },
      "execution_count": 8,
      "outputs": [
        {
          "output_type": "stream",
          "name": "stdout",
          "text": [
            "Data inserted successfully!\n"
          ]
        }
      ]
    },
    {
      "cell_type": "code",
      "source": [
        "# Query 1 Find all ships launched before 1921\n",
        "cur.execute(\"SELECT name, launched FROM Ships WHERE launched < 1921 ORDER BY launched;\")\n",
        "results1 = cur.fetchall()\n",
        "df1 = pd.DataFrame(results1, columns=[\"Ship Name\", \"Year Launched\"])\n",
        "print(\"Query 1 - Ships launched before 1921:\")\n",
        "print(df1)\n"
      ],
      "metadata": {
        "colab": {
          "base_uri": "https://localhost:8080/"
        },
        "id": "Mh0xyoLNhhGC",
        "outputId": "59a80fcf-bbd1-49fa-b33a-1e8befeccf1d"
      },
      "execution_count": 9,
      "outputs": [
        {
          "output_type": "stream",
          "name": "stdout",
          "text": [
            "Query 1 - Ships launched before 1921:\n",
            "          Ship Name  Year Launched\n",
            "0             Kongo           1913\n",
            "1              Hiei           1914\n",
            "2         Kirishima           1915\n",
            "3            Haruna           1916\n",
            "4         Royal Oak           1916\n",
            "5   Royal Sovereign           1916\n",
            "6            Renown           1916\n",
            "7           Repulse           1916\n",
            "8        Resolution           1916\n",
            "9           Revenge           1916\n",
            "10        Ramillies           1917\n",
            "11        Tennessee           1920\n"
          ]
        }
      ]
    },
    {
      "cell_type": "code",
      "source": [
        "# Query 2 Find ship names and their displacement for all battleships\n",
        "cur.execute(\"\"\"\n",
        "SELECT Ships.name, Classes.displacement\n",
        "FROM Ships, Classes\n",
        "WHERE Ships.class = Classes.class\n",
        "AND Classes.type = 'bb'\n",
        "ORDER BY Classes.displacement DESC;\n",
        "\"\"\")\n",
        "results2 = cur.fetchall()\n",
        "df2 = pd.DataFrame(results2, columns=[\"Ship Name\", \"Displacement\"])\n",
        "print(\"Query 2 - Battleships and their displacement:\")\n",
        "print(df2)\n"
      ],
      "metadata": {
        "colab": {
          "base_uri": "https://localhost:8080/"
        },
        "id": "71dIyiB8hpeP",
        "outputId": "1832db38-b6cc-45c4-b82c-c3569996bfe7"
      },
      "execution_count": 10,
      "outputs": [
        {
          "output_type": "stream",
          "name": "stdout",
          "text": [
            "Query 2 - Battleships and their displacement:\n",
            "          Ship Name  Displacement\n",
            "0           Musashi         65000\n",
            "1            Yamato         65000\n",
            "2          Missouri         46000\n",
            "3        New Jersey         46000\n",
            "4         Wisconsin         46000\n",
            "5              Iowa         46000\n",
            "6    North Carolina         37000\n",
            "7        Washington         37000\n",
            "8        California         32000\n",
            "9         Tennessee         32000\n",
            "10  Royal Sovereign         29000\n",
            "11        Ramillies         29000\n",
            "12          Revenge         29000\n",
            "13       Resolution         29000\n",
            "14        Royal Oak         29000\n"
          ]
        }
      ]
    },
    {
      "cell_type": "code",
      "source": [
        "# Query 3 Find the average number of guns by country\n",
        "cur.execute(\"\"\"\n",
        "SELECT Classes.country, ROUND(AVG(Classes.numGuns::numeric), 2) as avg_guns\n",
        "FROM Classes, Ships\n",
        "WHERE Ships.class = Classes.class\n",
        "GROUP BY Classes.country\n",
        "ORDER BY avg_guns DESC;\n",
        "\"\"\")\n",
        "results3 = cur.fetchall()\n",
        "df3 = pd.DataFrame(results3, columns=[\"Country\", \"Average Guns\"])\n",
        "print(\"Query 3 - Average guns by country:\")\n",
        "print(df3)\n"
      ],
      "metadata": {
        "colab": {
          "base_uri": "https://localhost:8080/"
        },
        "id": "afMTHhrqhxU6",
        "outputId": "3467c70e-760e-4f07-fd82-62430c38cd9a"
      },
      "execution_count": 15,
      "outputs": [
        {
          "output_type": "stream",
          "name": "stdout",
          "text": [
            "Query 3 - Average guns by country:\n",
            "       Country Average Guns\n",
            "0          USA         9.75\n",
            "1        Japan         8.33\n",
            "2  Gt. Britain         7.43\n"
          ]
        }
      ]
    },
    {
      "cell_type": "code",
      "source": [
        "# Query 4 Find all Japanese ships with their class information\n",
        "cur.execute(\"\"\"\n",
        "SELECT Ships.name, Ships.class, Classes.type, Classes.numGuns, Ships.launched\n",
        "FROM Ships, Classes\n",
        "WHERE Ships.class = Classes.class\n",
        "AND Classes.country = 'Japan'\n",
        "ORDER BY Ships.launched;\n",
        "\"\"\")\n",
        "results4 = cur.fetchall()\n",
        "df4 = pd.DataFrame(results4, columns=[\"Ship Name\", \"Class\", \"Type\", \"Number of Guns\", \"Year Launched\"])\n",
        "print(\"Query 4 - Japanese ships with class details:\")\n",
        "print(df4)\n"
      ],
      "metadata": {
        "colab": {
          "base_uri": "https://localhost:8080/"
        },
        "id": "4vbR8LTfiBBo",
        "outputId": "49e53953-855b-4717-8a4e-166e9eacd3f8"
      },
      "execution_count": 12,
      "outputs": [
        {
          "output_type": "stream",
          "name": "stdout",
          "text": [
            "Query 4 - Japanese ships with class details:\n",
            "   Ship Name   Class Type  Number of Guns  Year Launched\n",
            "0      Kongo   Kongo   bc               8           1913\n",
            "1       Hiei   Kongo   bc               8           1914\n",
            "2  Kirishima   Kongo   bc               8           1915\n",
            "3     Haruna   Kongo   bc               8           1916\n",
            "4     Yamato  Yamato   bb               9           1941\n",
            "5    Musashi  Yamato   bb               9           1942\n"
          ]
        }
      ]
    }
  ]
}